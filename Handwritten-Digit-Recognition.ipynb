{
 "cells": [
  {
   "cell_type": "markdown",
   "metadata": {
    "colab_type": "text",
    "id": "AU3HlzQP2kGH"
   },
   "source": [
    "# Handwritten Digit Recognition"
   ]
  },
  {
   "cell_type": "markdown",
   "metadata": {
    "colab_type": "text",
    "id": "XQhYgDBc2sl-"
   },
   "source": [
    "Importing required libraries"
   ]
  },
  {
   "cell_type": "code",
   "execution_count": 1,
   "metadata": {
    "colab": {},
    "colab_type": "code",
    "id": "7un3oart2MSC"
   },
   "outputs": [
    {
     "name": "stderr",
     "output_type": "stream",
     "text": [
      "/anaconda3/lib/python3.6/site-packages/h5py/__init__.py:36: FutureWarning: Conversion of the second argument of issubdtype from `float` to `np.floating` is deprecated. In future, it will be treated as `np.float64 == np.dtype(float).type`.\n",
      "  from ._conv import register_converters as _register_converters\n"
     ]
    }
   ],
   "source": [
    "import matplotlib.pyplot as plt\n",
    "import tensorflow as tf\n",
    "from tensorflow.keras.datasets import mnist\n",
    "from tensorflow.keras.models import Sequential\n",
    "from tensorflow.keras.layers import Dense, Dropout, Conv2D, MaxPooling2D, Flatten\n",
    "from tensorflow.keras.optimizers import RMSprop"
   ]
  },
  {
   "cell_type": "code",
   "execution_count": 2,
   "metadata": {
    "colab": {
     "base_uri": "https://localhost:8080/",
     "height": 51
    },
    "colab_type": "code",
    "id": "Fc42rmG52f9_",
    "outputId": "31790500-e04a-4cf5-d6f4-178d4e85ad00"
   },
   "outputs": [],
   "source": [
    "(mnist_train_images, mnist_train_labels),(mnist_test_images, mnist_test_labels) = mnist.load_data()"
   ]
  },
  {
   "cell_type": "code",
   "execution_count": 3,
   "metadata": {
    "colab": {},
    "colab_type": "code",
    "id": "0AoSMB5m2rC5"
   },
   "outputs": [],
   "source": [
    "from tensorflow.keras import backend as K\n",
    "if K.image_data_format() == 'channels_last':\n",
    "    train_images = mnist_train_images.reshape(mnist_train_images.shape[0],28,28,1)\n",
    "    test_images = mnist_test_images.reshape(mnist_test_images.shape[0],28,28,1)\n",
    "    input_shape = (28,28,1)"
   ]
  },
  {
   "cell_type": "code",
   "execution_count": 4,
   "metadata": {
    "colab": {},
    "colab_type": "code",
    "id": "Yppowtmm2x6c"
   },
   "outputs": [],
   "source": [
    "train_images = train_images.astype('float32')\n",
    "test_images = test_images.astype('float32')\n",
    "\n",
    "train_images /= 255\n",
    "test_images /= 255"
   ]
  },
  {
   "cell_type": "code",
   "execution_count": 5,
   "metadata": {
    "colab": {},
    "colab_type": "code",
    "id": "srvu_cgL2zPb"
   },
   "outputs": [],
   "source": [
    "#converting Labels to categorial\n",
    "#coverts a class vectors(integers) into binary class matrix\n",
    "train_labels = tf.keras.utils.to_categorical(mnist_train_labels,10) \n",
    "test_labels = tf.keras.utils.to_categorical(mnist_test_labels,10)"
   ]
  },
  {
   "cell_type": "code",
   "execution_count": 6,
   "metadata": {
    "colab": {},
    "colab_type": "code",
    "id": "2FoK00MW20kD"
   },
   "outputs": [],
   "source": [
    "def display_sample(num):\n",
    "    print(train_labels[num])\n",
    "    label = train_labels[num].argmax(axis = 0) #argmax => returns the highest indices in the given axis\n",
    "    print(label)\n",
    "    image = train_images[num].reshape(28,28)\n",
    "    \n",
    "    plt.title(\"Sample: {}  Label: {}\".format(num,label))\n",
    "    plt.imshow(image, cmap=plt.get_cmap('gray_r')) #also cmap = plt.cm.binary does the same\n",
    "    plt.show()"
   ]
  },
  {
   "cell_type": "code",
   "execution_count": 7,
   "metadata": {
    "colab": {
     "base_uri": "https://localhost:8080/",
     "height": 396
    },
    "colab_type": "code",
    "id": "FcUeW3Lk21xr",
    "outputId": "36995c9a-956e-49bf-c6ed-d6d03f28493e"
   },
   "outputs": [
    {
     "name": "stdout",
     "output_type": "stream",
     "text": [
      "[0. 0. 0. 0. 0. 1. 0. 0. 0. 0.]\n",
      "5\n"
     ]
    },
    {
     "data": {
      "image/png": "[encoded data removed]",
      "text/plain": [
       "<Figure size 432x288 with 1 Axes>"
      ]
     },
     "metadata": {},
     "output_type": "display_data"
    }
   ],
   "source": [
    "display_sample(899)"
   ]
  },
  {
   "cell_type": "code",
   "execution_count": 314,
   "metadata": {
    "colab": {},
    "colab_type": "code",
    "id": "rn2fXzEG23SL"
   },
   "outputs": [],
   "source": [
    "model = Sequential()\n",
    "#32 filters 3x3 kernel_size\n",
    "model.add(Conv2D(32, kernel_size=(3,3), activation = 'relu', input_shape = input_shape))\n",
    "\n",
    "#64 filters 3x3 kernal_size\n",
    "model.add(Conv2D(64,3,activation = 'relu'))\n",
    "\n",
    "#MaxPooling2D block size of 2x2\n",
    "model.add(MaxPooling2D(pool_size=(2,2)))\n",
    "\n",
    "#Dropout to avoid overfitting\n",
    "model.add(Dropout(rate = 0.25))\n",
    "\n",
    "#Convert 2D layer into 1D layer for passing into a flat hidden layer\n",
    "model.add(Flatten())\n",
    "\n",
    "#A hidden layer to learn with\n",
    "model.add(Dense(units = 128, activation='relu'))\n",
    "\n",
    "#another Dropout\n",
    "model.add(Dropout(0.5))\n",
    "\n",
    "#A hidden layer to learn with\n",
    "model.add(Dense(units = 128, activation='relu'))\n",
    "\n",
    "#final catagorization with activation function softmax\n",
    "model.add(Dense(10, activation = 'softmax'))"
   ]
  },
  {
   "cell_type": "code",
   "execution_count": 315,
   "metadata": {
    "colab": {
     "base_uri": "https://localhost:8080/",
     "height": 408
    },
    "colab_type": "code",
    "id": "qjRttY8C24vT",
    "outputId": "f9c20676-bebc-4787-dc78-84dd008cefa8"
   },
   "outputs": [
    {
     "name": "stdout",
     "output_type": "stream",
     "text": [
      "_________________________________________________________________\n",
      "Layer (type)                 Output Shape              Param #   \n",
      "=================================================================\n",
      "conv2d_4 (Conv2D)            (None, 26, 26, 32)        320       \n",
      "_________________________________________________________________\n",
      "conv2d_5 (Conv2D)            (None, 24, 24, 64)        18496     \n",
      "_________________________________________________________________\n",
      "max_pooling2d_2 (MaxPooling2 (None, 12, 12, 64)        0         \n",
      "_________________________________________________________________\n",
      "dropout_4 (Dropout)          (None, 12, 12, 64)        0         \n",
      "_________________________________________________________________\n",
      "flatten_2 (Flatten)          (None, 9216)              0         \n",
      "_________________________________________________________________\n",
      "dense_5 (Dense)              (None, 128)               1179776   \n",
      "_________________________________________________________________\n",
      "dropout_5 (Dropout)          (None, 128)               0         \n",
      "_________________________________________________________________\n",
      "dense_6 (Dense)              (None, 128)               16512     \n",
      "_________________________________________________________________\n",
      "dense_7 (Dense)              (None, 10)                1290      \n",
      "=================================================================\n",
      "Total params: 1,216,394\n",
      "Trainable params: 1,216,394\n",
      "Non-trainable params: 0\n",
      "_________________________________________________________________\n"
     ]
    }
   ],
   "source": [
    "model.summary()"
   ]
  },
  {
   "cell_type": "code",
   "execution_count": 316,
   "metadata": {
    "colab": {},
    "colab_type": "code",
    "id": "OnVyrIjK26Tr"
   },
   "outputs": [],
   "source": [
    "model.compile(loss = 'categorical_crossentropy',\n",
    "             optimizer = 'adam',\n",
    "             metrics =['accuracy'])"
   ]
  },
  {
   "cell_type": "code",
   "execution_count": 317,
   "metadata": {
    "colab": {
     "base_uri": "https://localhost:8080/",
     "height": 544
    },
    "colab_type": "code",
    "id": "FTFFoF4Q275C",
    "outputId": "1d02d802-b6ce-450d-dcbf-9adef95313d1"
   },
   "outputs": [
    {
     "name": "stdout",
     "output_type": "stream",
     "text": [
      "Train on 60000 samples, validate on 10000 samples\n",
      "Epoch 1/15\n",
      " - 93s - loss: 0.2521 - acc: 0.9227 - val_loss: 0.0647 - val_acc: 0.9799\n",
      "Epoch 2/15\n",
      " - 92s - loss: 0.0926 - acc: 0.9723 - val_loss: 0.0408 - val_acc: 0.9865\n",
      "Epoch 3/15\n",
      " - 94s - loss: 0.0672 - acc: 0.9799 - val_loss: 0.0323 - val_acc: 0.9890\n",
      "Epoch 4/15\n",
      " - 87s - loss: 0.0557 - acc: 0.9829 - val_loss: 0.0307 - val_acc: 0.9894\n",
      "Epoch 5/15\n",
      " - 97s - loss: 0.0494 - acc: 0.9849 - val_loss: 0.0320 - val_acc: 0.9900\n",
      "Epoch 6/15\n",
      " - 87s - loss: 0.0417 - acc: 0.9874 - val_loss: 0.0314 - val_acc: 0.9918\n",
      "Epoch 7/15\n",
      " - 80s - loss: 0.0378 - acc: 0.9882 - val_loss: 0.0285 - val_acc: 0.9917\n",
      "Epoch 8/15\n",
      " - 80s - loss: 0.0340 - acc: 0.9893 - val_loss: 0.0237 - val_acc: 0.9923\n",
      "Epoch 9/15\n",
      " - 80s - loss: 0.0304 - acc: 0.9904 - val_loss: 0.0265 - val_acc: 0.9919\n",
      "Epoch 10/15\n",
      " - 80s - loss: 0.0289 - acc: 0.9909 - val_loss: 0.0235 - val_acc: 0.9934\n",
      "Epoch 11/15\n",
      " - 80s - loss: 0.0266 - acc: 0.9917 - val_loss: 0.0257 - val_acc: 0.9922\n",
      "Epoch 12/15\n",
      " - 80s - loss: 0.0235 - acc: 0.9924 - val_loss: 0.0284 - val_acc: 0.9921\n",
      "Epoch 13/15\n",
      " - 82s - loss: 0.0236 - acc: 0.9923 - val_loss: 0.0280 - val_acc: 0.9919\n",
      "Epoch 14/15\n",
      " - 81s - loss: 0.0197 - acc: 0.9937 - val_loss: 0.0259 - val_acc: 0.9933\n",
      "Epoch 15/15\n",
      " - 80s - loss: 0.0208 - acc: 0.9934 - val_loss: 0.0339 - val_acc: 0.9915\n"
     ]
    }
   ],
   "source": [
    "#train the model\n",
    "'''model.fit(training_data, target_or_labels,\n",
    "            batch_size=>chunk of training data, \n",
    "            epochs=> iteration to train the model with provided training data,\n",
    "            verbose =>Verbosity mode. 0 = silent, 1 = progress bar, 2 = one line per epoch,\n",
    "            validation_data = (testing_data, testing_labels))'''\n",
    "\n",
    "trained_model = model.fit(train_images, train_labels,\n",
    "         batch_size = 100,\n",
    "         epochs = 15,\n",
    "         verbose =1,\n",
    "         validation_data = (test_images, test_labels))"
   ]
  },
  {
   "cell_type": "code",
   "execution_count": 318,
   "metadata": {},
   "outputs": [],
   "source": [
    "model.save('./models/HDR-CNN-2HiddenLayer.model')"
   ]
  },
  {
   "cell_type": "code",
   "execution_count": 319,
   "metadata": {
    "colab": {
     "base_uri": "https://localhost:8080/",
     "height": 498
    },
    "colab_type": "code",
    "id": "kIqkErCj29fr",
    "outputId": "ad142eb3-bf26-460e-eeec-1cf56c5c3cc2"
   },
   "outputs": [
    {
     "data": {
      "image/png": "[encoded data removed]",
      "text/plain": [
       "<Figure size 576x576 with 2 Axes>"
      ]
     },
     "metadata": {},
     "output_type": "display_data"
    }
   ],
   "source": [
    "acc = trained_model.history['acc']\n",
    "val_acc = trained_model.history['val_acc']\n",
    "\n",
    "loss = trained_model.history['loss']\n",
    "val_loss = trained_model.history['val_loss']\n",
    "\n",
    "epochs_range = range(15)\n",
    "\n",
    "plt.figure(figsize=(8, 8))\n",
    "plt.subplot(1, 2, 1)\n",
    "plt.plot(epochs_range, acc, label='Training Accuracy')\n",
    "plt.plot(epochs_range, val_acc, label='Validation Accuracy')\n",
    "plt.legend(loc='lower right')\n",
    "plt.title('Training and Validation Accuracy')\n",
    "\n",
    "plt.subplot(1, 2, 2)\n",
    "plt.plot(epochs_range, loss, label='Training Loss')\n",
    "plt.plot(epochs_range, val_loss, label='Validation Loss')\n",
    "plt.legend(loc='upper right')\n",
    "plt.title('Training and Validation Loss')\n",
    "plt.savefig('./figures/fig1-2HiddenLayer.png')\n",
    "plt.show()"
   ]
  },
  {
   "cell_type": "code",
   "execution_count": 320,
   "metadata": {
    "colab": {
     "base_uri": "https://localhost:8080/",
     "height": 51
    },
    "colab_type": "code",
    "id": "_UssMpXJ31Og",
    "outputId": "4ae36741-b86c-4671-af17-33054e2a2a8d"
   },
   "outputs": [
    {
     "name": "stdout",
     "output_type": "stream",
     "text": [
      "Test Loss: 0.033855364548227046\n",
      "Test Accuracy: 0.9915\n"
     ]
    }
   ],
   "source": [
    "test_loss, test_accuracy = model.evaluate(test_images, test_labels,verbose = 2)\n",
    "print(\"Test Loss: {}\".format(test_loss))\n",
    "print(\"Test Accuracy: {}\".format(test_accuracy))"
   ]
  },
  {
   "cell_type": "code",
   "execution_count": 321,
   "metadata": {},
   "outputs": [],
   "source": [
    "#importing saved model using tensorflow\n",
    "imported_model = tf.keras.models.load_model('./models/HDR-CNN-2HiddenLayer.model')"
   ]
  },
  {
   "cell_type": "code",
   "execution_count": 382,
   "metadata": {},
   "outputs": [
    {
     "data": {
      "image/png": "[encoded data removed]",
      "text/plain": [
       "<Figure size 432x288 with 1 Axes>"
      ]
     },
     "metadata": {},
     "output_type": "display_data"
    }
   ],
   "source": [
    "import cv2 #importing OpenCV\n",
    "\n",
    "img_array = cv2.imread('./handwritten_test_data/100.png', cv2.IMREAD_GRAYSCALE) #read image in Grayscale\n",
    "img_array = cv2.bitwise_not(img_array)\n",
    "img_resized = cv2.resize(img_array, (28,28)) #resize image into 28x28\n",
    "\n",
    "plt.imshow(img_resized, cmap=plt.get_cmap('gray_r')) #also cmap = plt.cm.binary does the same\n",
    "plt.show()"
   ]
  },
  {
   "cell_type": "code",
   "execution_count": 383,
   "metadata": {},
   "outputs": [
    {
     "data": {
      "text/plain": [
       "3"
      ]
     },
     "execution_count": 383,
     "metadata": {},
     "output_type": "execute_result"
    }
   ],
   "source": [
    "prepare_img= img_resized.reshape(-1,28,28,1)\n",
    "\n",
    "# #predict using prepared model\n",
    "# model.predict([prepare_img]).argmax() \n",
    "\n",
    "imported_model.predict([prepare_img]).argmax() #predict using imported saved model"
   ]
  },
  {
   "cell_type": "code",
   "execution_count": null,
   "metadata": {},
   "outputs": [],
   "source": []
  }
 ],
 "metadata": {
  "accelerator": "GPU",
  "colab": {
   "collapsed_sections": [],
   "name": "Handwritten-Digit-Recognition.ipynb",
   "provenance": [],
   "version": "0.3.2"
  },
  "kernelspec": {
   "display_name": "Python 3",
   "language": "python",
   "name": "python3"
  },
  "language_info": {
   "codemirror_mode": {
    "name": "ipython",
    "version": 3
   },
   "file_extension": ".py",
   "mimetype": "text/x-python",
   "name": "python",
   "nbconvert_exporter": "python",
   "pygments_lexer": "ipython3",
   "version": "3.6.5"
  }
 },
 "nbformat": 4,
 "nbformat_minor": 1
}
